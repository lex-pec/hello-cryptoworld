{
 "cells": [
  {
   "cell_type": "code",
   "execution_count": 37,
   "metadata": {},
   "outputs": [],
   "source": [
    "import requests\n",
    "import pandas as pd\n",
    "import time\n",
    "\n",
    "current_time = int(time.time()) * 1000"
   ]
  },
  {
   "cell_type": "markdown",
   "metadata": {},
   "source": [
    "### Daily klines on Binance "
   ]
  },
  {
   "cell_type": "markdown",
   "metadata": {},
   "source": [
    "#### ADX-BTC"
   ]
  },
  {
   "cell_type": "code",
   "execution_count": 42,
   "metadata": {},
   "outputs": [],
   "source": [
    "start_time = 1511913600000  # for ADX-BTC the first day of observation is 29.11.2017\n",
    "adxbtc_df = pd.DataFrame()"
   ]
  },
  {
   "cell_type": "code",
   "execution_count": 48,
   "metadata": {},
   "outputs": [
    {
     "name": "stdout",
     "output_type": "stream",
     "text": [
      "The period of observation is more than a year\n"
     ]
    }
   ],
   "source": [
    "while start_time < current_time:\n",
    "    url = 'https://api.binance.com/api/v3/klines?symbol=ADXBTC&interval=1d&limit=1000&startTime=' + str(start_time)\n",
    "    klines = requests.get(url).json()\n",
    "    \n",
    "    # assign columns according to Binance's API documentation \n",
    "    df = pd.DataFrame(klines, columns = ['Open time', 'Open', 'High', 'Low', 'Close', 'Volume', \n",
    "                              'Close time', 'Quote asset volume', 'Number of trades', \n",
    "                              'Taker buy base asset volume', 'Taker buy quote asset volume','ignore'])  \n",
    "    df = df.drop(df.columns[[7, 8, 9, 10, 11]], axis = 1)\n",
    "    df['Instrument'] = 'ADX-BTC'\n",
    "    df['Market'] = 'Binance'\n",
    "    adxbtc_df = pd.concat([adxbtc_df, df],axis = 0)\n",
    "    start_time = max(df['Close time'])\n",
    "    \n",
    "# check if the period of observation is more than a year\n",
    "if len(adxbtc_df) > 365:\n",
    "    print('The period of observation is more than a year')\n",
    "else:\n",
    "    print('The period of observation is less than a year')"
   ]
  },
  {
   "cell_type": "markdown",
   "metadata": {},
   "source": [
    "#### ETH-BTC"
   ]
  },
  {
   "cell_type": "code",
   "execution_count": null,
   "metadata": {},
   "outputs": [],
   "source": [
    "start_time = 1499990400000  # for ETH-BTC the first day of observation is 14.07.2017\n",
    "ethbtc_df = pd.DataFrame()"
   ]
  },
  {
   "cell_type": "code",
   "execution_count": null,
   "metadata": {},
   "outputs": [],
   "source": [
    "while start_time < current_time:\n",
    "    url = 'https://api.binance.com/api/v3/klines?symbol=ETHBTC&interval=1d&limit=1000&startTime=' + str(start_time)\n",
    "    klines = requests.get(url).json()\n",
    "    df = pd.DataFrame(klines, columns = ['Open time', 'Open', 'High', 'Low', 'Close', 'Volume', \n",
    "                              'Close time', 'Quote asset volume', 'Number of trades', \n",
    "                              'Taker buy base asset volume', 'Taker buy quote asset volume','ignore'])\n",
    "    df = df.drop(df.columns[[7, 8, 9, 10, 11]], axis = 1)\n",
    "    df['Instrument'] = 'ETH-BTC'\n",
    "    df['Market'] = 'Binance'\n",
    "    ethbtc_df = pd.concat([ethbtc_df, df],axis = 0)\n",
    "    start_time = max(df['Close time'])\n",
    "    \n",
    "# check if the period of observation is more than a year\n",
    "if len(ethbtc_df) > 365:\n",
    "    print('The period of observation is more than a year')\n",
    "else:\n",
    "    print('The period of observation is less than a year')"
   ]
  },
  {
   "cell_type": "markdown",
   "metadata": {},
   "source": [
    "#### ADA-ETH"
   ]
  },
  {
   "cell_type": "code",
   "execution_count": null,
   "metadata": {},
   "outputs": [],
   "source": [
    "start_time = 1512000000000  # for ADA-ETH the first day of observation is 30.11.2017\n",
    "adaeth_df = pd.DataFrame()"
   ]
  },
  {
   "cell_type": "code",
   "execution_count": null,
   "metadata": {},
   "outputs": [],
   "source": [
    "while start_time < current_time:\n",
    "    url = 'https://api.binance.com/api/v3/klines?symbol=ADAETH&interval=1d&limit=1000&startTime=' + str(start_time)\n",
    "    klines = requests.get(url).json()\n",
    "    df = pd.DataFrame(klines, columns = ['Open time', 'Open', 'High', 'Low', 'Close', 'Volume', \n",
    "                              'Close time', 'Quote asset volume', 'Number of trades', \n",
    "                              'Taker buy base asset volume', 'Taker buy quote asset volume','ignore'])\n",
    "    df = df.drop(df.columns[[7, 8, 9, 10, 11]], axis = 1)\n",
    "    df['Instrument'] = 'ADA-ETH'\n",
    "    df['Market'] = 'Binance'\n",
    "    adaeth_df = pd.concat([adaeth_df, df],axis = 0)\n",
    "    start_time = max(df['Close time'])\n",
    "    \n",
    "# check if the period of observation is more than a year\n",
    "if len(adaeth_df) > 365:\n",
    "    print('The period of observation is more than a year')\n",
    "else:\n",
    "    print('The period of observation is less than a year')"
   ]
  },
  {
   "cell_type": "markdown",
   "metadata": {},
   "source": [
    "#### Joining tables by time and creating a csv-file"
   ]
  },
  {
   "cell_type": "code",
   "execution_count": null,
   "metadata": {},
   "outputs": [],
   "source": [
    "merged_adxbtc_df = pd.concat([adxbtc_df, ], axis = 0)\n",
    "\n",
    "merged_df.to_csv('binance.csv')"
   ]
  },
  {
   "cell_type": "markdown",
   "metadata": {},
   "source": [
    "### Trades on Binance"
   ]
  },
  {
   "cell_type": "code",
   "execution_count": 10,
   "metadata": {},
   "outputs": [],
   "source": [
    "url1t = 'https://api.binance.com/api/v3/historicalTrades?symbol=ADXBTC&limit=1000'\n",
    "url2t = 'https://api.binance.com/api/v3/historicalTrades?symbol=ETHBTC&limit=1000'\n",
    "url3t = 'https://api.binance.com/api/v3/historicalTrades?symbol=ADAETH&limit=1000'\n"
   ]
  }
 ],
 "metadata": {
  "kernelspec": {
   "display_name": "Python 3",
   "language": "python",
   "name": "python3"
  },
  "language_info": {
   "codemirror_mode": {
    "name": "ipython",
    "version": 3
   },
   "file_extension": ".py",
   "mimetype": "text/x-python",
   "name": "python",
   "nbconvert_exporter": "python",
   "pygments_lexer": "ipython3",
   "version": "3.7.4"
  }
 },
 "nbformat": 4,
 "nbformat_minor": 2
}
